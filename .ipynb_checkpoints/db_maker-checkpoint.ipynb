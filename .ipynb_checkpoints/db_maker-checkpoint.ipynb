{
 "cells": [
  {
   "cell_type": "code",
   "execution_count": 36,
   "id": "fc4dbe92",
   "metadata": {},
   "outputs": [],
   "source": [
    "import pandas as pd\n",
    "import sqlite3\n",
    "import requests\n",
    "from bs4 import BeautifulSoup\n",
    "from selenium import webdriver\n",
    "from selenium.webdriver.common.keys import Keys\n",
    "from selenium.webdriver.common.by import By\n",
    "from selenium.webdriver.common.action_chains import ActionChains\n",
    "\n",
    "import time"
   ]
  },
  {
   "cell_type": "markdown",
   "id": "f546436c-7967-46be-b2ad-3a0a56ce6107",
   "metadata": {},
   "source": [
    "## Selenium Scraping"
   ]
  },
  {
   "cell_type": "code",
   "execution_count": 31,
   "id": "8ce0623f",
   "metadata": {},
   "outputs": [],
   "source": [
    "url = 'https://www.imdb.com/search/title/?title_type=feature'\n",
    "\n",
    "driver = webdriver.Chrome()\n",
    "\n",
    "driver.get(url)\n",
    "\n",
    "time.sleep(2)\n"
   ]
  },
  {
   "cell_type": "code",
   "execution_count": 130,
   "id": "88cfe645-0eaa-4f30-adaa-3c0a827fc13b",
   "metadata": {},
   "outputs": [],
   "source": [
    "for i in range(20):\n",
    "    l = driver.find_element(By.CSS_SELECTOR, \".cMGrFN button\")\n",
    "    driver.execute_script(\"window.scrollTo(0, arguments[0])\", l.location[\"y\"]-200)\n",
    "    time.sleep(1)\n",
    "    driver.execute_script('arguments[0].removeAttribute(\"disabled\");', l)\n",
    "    driver.execute_script(\"arguments[0].setAttribute('value',true)\",l)\n",
    "    time.sleep(1)\n",
    "    l.click()\n",
    "    time.sleep(2)"
   ]
  },
  {
   "cell_type": "code",
   "execution_count": 132,
   "id": "627ef94e-e04c-440d-b77c-ab1ea0c5923a",
   "metadata": {},
   "outputs": [],
   "source": [
    "html_text = driver.page_source\n",
    "time.sleep(2) \n",
    "driver.quit()"
   ]
  },
  {
   "cell_type": "markdown",
   "id": "77c77bd6-cf8f-41ba-8fdd-8f15b0154054",
   "metadata": {},
   "source": [
    "## ETL"
   ]
  },
  {
   "cell_type": "code",
   "execution_count": 212,
   "id": "f9449a23",
   "metadata": {
    "scrolled": true
   },
   "outputs": [],
   "source": [
    "def extract() -> dict:\n",
    "    title = []\n",
    "    duration = []\n",
    "    metascore = []\n",
    "    director = []\n",
    "    stars = []\n",
    "    quick_def = [] \n",
    "    age_rating = [] \n",
    "    year = []\n",
    "    score = []\n",
    "    # voters = []\n",
    "\n",
    "    soup = BeautifulSoup(html_text, \"lxml\")\n",
    "    \n",
    "    all_films = soup.find(\"ul\", class_=\"ipc-metadata-list\")\n",
    "    for j in all_films.find_all(\"li\"):\n",
    "        t_ = \"\"\n",
    "        y_ = 0\n",
    "        d_ = 0\n",
    "        a_ = \"\"\n",
    "        try:\n",
    "            t_ = (\" \".join(j.find(\"h3\", class_=\"ipc-title__text\").text.strip().split(\" \")[1:]))\n",
    "            sub = j.find(\"div\", \"sc-300a8231-6 dBUjvq dli-title-metadata\")\n",
    "            print(sub.find_all(\"span\"))\n",
    "            y_ = (sub.find_all(\"span\")[0].text.strip())\n",
    "            d_ = (sub.find_all(\"span\")[1].text.strip())\n",
    "            a_ = (sub.find_all(\"span\")[2].text.strip())\n",
    "        except IndexError:\n",
    "            continue\n",
    "        title.append(t_)\n",
    "        year.append(y_)\n",
    "        duration.append(d_)\n",
    "        age_rating.append(a_)\n",
    "\n",
    "        site_details = BeautifulSoup(requests.get(\"https://www.imdb.com\" + j.find(\"a\", class_=\"ipc-title-link-wrapper\")[\"href\"]).content, \"lxml\")\n",
    "\n",
    "        try:\n",
    "            reviews = site_details.find(\"ul\", class_=\"ipc-inline-list\").find_all(\"li\")[2].find(\"span\", class_=\"metacritic-score-box\").text.strip()\n",
    "            metascore.append(int(reviews))\n",
    "        except IndexError:\n",
    "            metascore.append(\"none\")\n",
    "        \n",
    "        try:\n",
    "            stars = site_details.find(\"span\", class_=\"sc-d541859f-1 imUuxf\").text.strip()\n",
    "            score.append(float(reviews))\n",
    "        except:\n",
    "            score.append(\"none\")\n",
    "\n",
    "        dir_wr_strs = site_details.find(\"div\", class_=\"sc-70a366cc-2 bscNnP\").find(\"ul\", class_=\"ipc-metadata-list ipc-metadata-list--dividers-all title-pc-list ipc-metadata-list--baseAlt\").find_all(\"li\")\n",
    "        try:\n",
    "            dir = dir_wr_strs[0].find(\"a\", class_=\"ipc-metadata-list-item__list-content-item ipc-metadata-list-item__list-content-item--link\").text.strip()\n",
    "            director.append(dir)\n",
    "        except:\n",
    "            director.append(\"none\")\n",
    "        try:\n",
    "            star = dir_wr_strs[2].find(\"a\", class_=\"ipc-metadata-list-item__list-content-item ipc-metadata-list-item__list-content-item--link\").text.strip()\n",
    "            stars.append(star)\n",
    "        except:\n",
    "            stars.append('none')\n",
    "            \n",
    "        \n",
    "        quick_def.append(j.find(\"div\", \"sc-3ac15c8d-0 hRUoSB\").text.strip())\n",
    "    \n",
    "\n",
    "    \n"
   ]
  },
  {
   "cell_type": "code",
   "execution_count": null,
   "id": "5077a0a4-c580-4cc8-a64f-a4fdfa88bec6",
   "metadata": {},
   "outputs": [],
   "source": [
    "extract()"
   ]
  },
  {
   "cell_type": "code",
   "execution_count": 192,
   "id": "8bf4d0f1",
   "metadata": {},
   "outputs": [],
   "source": [
    "data = {\n",
    "    \"title\": title,\n",
    "    \"duration\": duration,\n",
    "    \"metascore\": metascore,\n",
    "    \"director\": director,\n",
    "    \"stars\": stars,\n",
    "    \"quick_def\": quick_def,\n",
    "    \"age_rating\": age_rating,\n",
    "    \"year\": year,\n",
    "    \"score\": score,\n",
    "    # \"voters\": voters,\n",
    "    }\n",
    "\n",
    "df = pd.DataFrame(data)"
   ]
  },
  {
   "cell_type": "code",
   "execution_count": 154,
   "id": "e77c89eb",
   "metadata": {},
   "outputs": [
    {
     "data": {
      "text/html": [
       "<div>\n",
       "<style scoped>\n",
       "    .dataframe tbody tr th:only-of-type {\n",
       "        vertical-align: middle;\n",
       "    }\n",
       "\n",
       "    .dataframe tbody tr th {\n",
       "        vertical-align: top;\n",
       "    }\n",
       "\n",
       "    .dataframe thead th {\n",
       "        text-align: right;\n",
       "    }\n",
       "</style>\n",
       "<table border=\"1\" class=\"dataframe\">\n",
       "  <thead>\n",
       "    <tr style=\"text-align: right;\">\n",
       "      <th></th>\n",
       "      <th>title</th>\n",
       "      <th>duration</th>\n",
       "      <th>metascore</th>\n",
       "      <th>director</th>\n",
       "      <th>stars</th>\n",
       "      <th>quick_def</th>\n",
       "      <th>age_rating</th>\n",
       "      <th>year</th>\n",
       "      <th>score</th>\n",
       "      <th>voters</th>\n",
       "    </tr>\n",
       "  </thead>\n",
       "  <tbody>\n",
       "  </tbody>\n",
       "</table>\n",
       "</div>"
      ],
      "text/plain": [
       "Empty DataFrame\n",
       "Columns: [title, duration, metascore, director, stars, quick_def, age_rating, year, score, voters]\n",
       "Index: []"
      ]
     },
     "execution_count": 154,
     "metadata": {},
     "output_type": "execute_result"
    }
   ],
   "source": [
    "df"
   ]
  },
  {
   "cell_type": "code",
   "execution_count": 12,
   "id": "2b536492",
   "metadata": {},
   "outputs": [],
   "source": [
    "conn = sqlite3.connect('semester_project.db')\n",
    "cursor = conn.cursor()"
   ]
  },
  {
   "cell_type": "code",
   "execution_count": 13,
   "id": "8d0939ed",
   "metadata": {},
   "outputs": [
    {
     "data": {
      "text/plain": [
       "<sqlite3.Cursor at 0x2a0a5f56a40>"
      ]
     },
     "execution_count": 13,
     "metadata": {},
     "output_type": "execute_result"
    }
   ],
   "source": [
    "cursor.execute(\"\"\"\n",
    "CREATE TABLE IF NOT EXISTS movies (\n",
    "    id INTEGER PRIMARY KEY AUTOINCREMENT,\n",
    "    title TEXT,\n",
    "    duration TEXT,\n",
    "    metascore float,\n",
    "    director TEXT,\n",
    "    stars TEXT,\n",
    "    quick_def TEXT,\n",
    "    age_rating TEXT,\n",
    "    year TEXT,\n",
    "    score float,\n",
    ");\n",
    "\"\"\")\n",
    "\n"
   ]
  },
  {
   "cell_type": "code",
   "execution_count": 14,
   "id": "276d4ce2",
   "metadata": {},
   "outputs": [],
   "source": [
    "data_tuples = list(zip(\n",
    "    data[\"title\"],\n",
    "    data[\"duration\"],\n",
    "    data[\"metascore\"],\n",
    "    data[\"director\"],\n",
    "    data[\"stars\"],\n",
    "    data[\"quick_def\"],\n",
    "    data[\"age_rating\"],\n",
    "    data[\"year\"],\n",
    "    data[\"score\"],\n",
    "))"
   ]
  },
  {
   "cell_type": "code",
   "execution_count": 15,
   "id": "38b50794",
   "metadata": {},
   "outputs": [],
   "source": [
    "if data_tuples:\n",
    "    # SQL-запрос для вставки данных\n",
    "    insert_query = \"\"\"\n",
    "    INSERT INTO movies (title, duration, metascore, director, stars, quick_def, age_rating, year, score)\n",
    "    VALUES (?, ?, ?, ?, ?, ?, ?, ?, ?);\n",
    "    \"\"\"\n",
    "    cursor.executemany(insert_query, data_tuples)"
   ]
  },
  {
   "cell_type": "code",
   "execution_count": 16,
   "id": "e77ba7ac",
   "metadata": {},
   "outputs": [],
   "source": [
    "conn.commit()"
   ]
  },
  {
   "cell_type": "code",
   "execution_count": null,
   "id": "0bd2eb79",
   "metadata": {},
   "outputs": [],
   "source": []
  },
  {
   "cell_type": "code",
   "execution_count": null,
   "id": "69e8d45d",
   "metadata": {},
   "outputs": [],
   "source": []
  },
  {
   "cell_type": "code",
   "execution_count": null,
   "id": "a8d3efc8",
   "metadata": {},
   "outputs": [],
   "source": []
  }
 ],
 "metadata": {
  "kernelspec": {
   "display_name": "Python 3 (ipykernel)",
   "language": "python",
   "name": "python3"
  },
  "language_info": {
   "codemirror_mode": {
    "name": "ipython",
    "version": 3
   },
   "file_extension": ".py",
   "mimetype": "text/x-python",
   "name": "python",
   "nbconvert_exporter": "python",
   "pygments_lexer": "ipython3",
   "version": "3.12.4"
  }
 },
 "nbformat": 4,
 "nbformat_minor": 5
}
