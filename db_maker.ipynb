{
 "cells": [
  {
   "cell_type": "code",
   "execution_count": 36,
   "id": "fc4dbe92",
   "metadata": {},
   "outputs": [],
   "source": [
    "import pandas as pd\n",
    "import sqlite3\n",
    "import requests\n",
    "from bs4 import BeautifulSoup\n",
    "from selenium import webdriver\n",
    "from selenium.webdriver.common.keys import Keys\n",
    "from selenium.webdriver.common.by import By\n",
    "from selenium.webdriver.common.action_chains import ActionChains\n",
    "\n",
    "import time"
   ]
  },
  {
   "cell_type": "markdown",
   "id": "f546436c-7967-46be-b2ad-3a0a56ce6107",
   "metadata": {},
   "source": [
    "## Selenium Scraping"
   ]
  },
  {
   "cell_type": "code",
   "execution_count": 31,
   "id": "8ce0623f",
   "metadata": {},
   "outputs": [],
   "source": [
    "url = 'https://www.imdb.com/search/title/?title_type=feature'\n",
    "\n",
    "driver = webdriver.Chrome()\n",
    "\n",
    "driver.get(url)\n",
    "\n",
    "time.sleep(2)\n"
   ]
  },
  {
   "cell_type": "code",
   "execution_count": 130,
   "id": "88cfe645-0eaa-4f30-adaa-3c0a827fc13b",
   "metadata": {},
   "outputs": [],
   "source": [
    "for i in range(20):\n",
    "    l = driver.find_element(By.CSS_SELECTOR, \".cMGrFN button\")\n",
    "    driver.execute_script(\"window.scrollTo(0, arguments[0])\", l.location[\"y\"]-200)\n",
    "    time.sleep(1)\n",
    "    driver.execute_script('arguments[0].removeAttribute(\"disabled\");', l)\n",
    "    driver.execute_script(\"arguments[0].setAttribute('value',true)\",l)\n",
    "    time.sleep(1)\n",
    "    l.click()\n",
    "    time.sleep(2)"
   ]
  },
  {
   "cell_type": "code",
   "execution_count": 132,
   "id": "627ef94e-e04c-440d-b77c-ab1ea0c5923a",
   "metadata": {},
   "outputs": [],
   "source": [
    "html_text = driver.page_source\n",
    "time.sleep(2) \n",
    "driver.quit()"
   ]
  },
  {
   "cell_type": "markdown",
   "id": "77c77bd6-cf8f-41ba-8fdd-8f15b0154054",
   "metadata": {},
   "source": [
    "## ETL"
   ]
  },
  {
   "cell_type": "code",
   "execution_count": 348,
   "id": "f9449a23",
   "metadata": {
    "scrolled": true
   },
   "outputs": [],
   "source": [
    "def extract() -> dict:\n",
    "    title = []\n",
    "    duration = []\n",
    "    metascore = []\n",
    "    director = []\n",
    "    stars = []\n",
    "    quick_def = [] \n",
    "    age_rating = [] \n",
    "    year = []\n",
    "    score = []\n",
    "    # voters = []\n",
    "\n",
    "    soup = BeautifulSoup(html_text, \"lxml\")\n",
    "    \n",
    "    all_films = soup.find(\"ul\", class_=\"ipc-metadata-list\")\n",
    "    \n",
    "    for j in all_films.find_all(\"li\"):\n",
    "        t_ = \"\"\n",
    "        y_ = 0\n",
    "        d_ = 0\n",
    "        a_ = \"\"\n",
    "        try:\n",
    "            t_ = (\" \".join(j.find(\"h3\", class_=\"ipc-title__text\").text.strip().split(\" \")[1:]))\n",
    "            sub = j.find(\"div\", \"sc-300a8231-6 dBUjvq dli-title-metadata\")\n",
    "            y_ = (sub.find_all(\"span\")[0].text.strip())\n",
    "            d_ = (sub.find_all(\"span\")[1].text.strip())\n",
    "            a_ = (sub.find_all(\"span\")[2].text.strip())\n",
    "        except:\n",
    "            continue\n",
    "        title.append(t_)\n",
    "        year.append(y_)\n",
    "        duration.append(d_)\n",
    "        age_rating.append(a_)\n",
    "        meta_ = 0\n",
    "        try:\n",
    "            meta_ = (j.find_all(\"span\", class_=\"sc-300a8231-9 fNNdeo\")[0].find(\"span\", class_=\"bXIOoL\").text.strip())\n",
    "            metascore.append(int(meta_))\n",
    "        except:\n",
    "            metascore.append(\"none\")\n",
    "        \n",
    "        # driver = webdriver.Chrome()\n",
    "        # driver.get(\"https://www.imdb.com\" + j.find(\"a\", class_=\"ipc-title-link-wrapper\")[\"href\"])\n",
    "        \n",
    "        # time.sleep(1)\n",
    "        # html_ = driver.page_source\n",
    "        # driver.quit()\n",
    "        \n",
    "        # site_details = BeautifulSoup(html_, \"lxml\")\n",
    "        # print(\"https://www.imdb.com\" + j.find(\"a\", class_=\"ipc-title-link-wrapper\")[\"href\"])\n",
    "        # print(site_details)\n",
    "        # if site_details.find(\"title\").text.strip() == \"403 Forbidden\":\n",
    "        #     metascore.append(\"none\")\n",
    "        #     score.append(\"none\")\n",
    "        #     director.append(\"none\")\n",
    "        #     stars.append('none')\n",
    "        #     continue\n",
    "\n",
    "        # try:\n",
    "        #     reviews = site_details.find(\"ul\", class_=\"ipc-inline-list\").find_all(\"li\")[2].find(\"span\", class_=\"metacritic-score-box\").text.strip()\n",
    "        #     metascore.append(int(reviews))\n",
    "        # except:\n",
    "        #     metascore.append(\"none\")\n",
    "        \n",
    "        # try:\n",
    "        #     star_rate = site_details.find(\"span\", class_=\"sc-d541859f-1 imUuxf\").text.strip()\n",
    "        #     score.append(float(star_rate))\n",
    "        # except:\n",
    "        #     score.append(\"none\")\n",
    "\n",
    "        # dir_wr_strs = site_details.find(\"div\", class_=\"sc-70a366cc-2 bscNnP\").find(\"ul\", class_=\"ipc-metadata-list ipc-metadata-list--dividers-all title-pc-list ipc-metadata-list--baseAlt\").find_all(\"li\")\n",
    "        # try:\n",
    "        #     dir = dir_wr_strs[0].find(\"a\", class_=\"ipc-metadata-list-item__list-content-item ipc-metadata-list-item__list-content-item--link\").text.strip()\n",
    "        #     director.append(dir)\n",
    "        # except:\n",
    "        #     director.append(\"none\")\n",
    "        # try:\n",
    "        #     star = dir_wr_strs[2].find(\"a\", class_=\"ipc-metadata-list-item__list-content-item ipc-metadata-list-item__list-content-item--link\").text.strip()\n",
    "        #     stars.append(star)\n",
    "        # except:\n",
    "        #     stars.append('none')\n",
    "            \n",
    "        # try:\n",
    "        #     quick_def.append(j.find(\"div\", \"sc-3ac15c8d-0 hRUoSB\").text.strip())\n",
    "        # except:\n",
    "        #     quick_def.append(\"none\")\n",
    "    \n",
    "    return {\n",
    "    \"title\": title,\n",
    "    \"duration\": duration,\n",
    "    \"metascore\": metascore,\n",
    "    # \"director\": director,\n",
    "    # \"stars\": stars,\n",
    "    # \"quick_def\": quick_def,\n",
    "    \"age_rating\": age_rating,\n",
    "    \"year\": year,\n",
    "    # \"score\": score,\n",
    "    }\n",
    "\n",
    "    \n"
   ]
  },
  {
   "cell_type": "code",
   "execution_count": 366,
   "id": "cbbb8be5-b4be-42e3-a7d1-9030bf821961",
   "metadata": {},
   "outputs": [],
   "source": [
    "def transform(d: dict):\n",
    "    return pd.DataFrame(d)"
   ]
  },
  {
   "cell_type": "code",
   "execution_count": 378,
   "id": "7231c066-bc97-41e0-a466-8b7f3808f9a5",
   "metadata": {},
   "outputs": [],
   "source": [
    "def load(df: pd.DataFrame):\n",
    "    conn = sqlite3.connect('movies.db')\n",
    "    cursor = conn.cursor()\n",
    "    cursor.execute(\"\"\"\n",
    "    CREATE TABLE IF NOT EXISTS movies (\n",
    "        id INTEGER PRIMARY KEY AUTOINCREMENT,\n",
    "        title TEXT,\n",
    "        duration TEXT,\n",
    "        metascore float,\n",
    "        age_rating TEXT,\n",
    "        year TEXT\n",
    "    );\n",
    "    \"\"\")\n",
    "    conn.commit()\n",
    "    df.to_sql(\"movies\", conn, if_exists=\"append\", index=False)\n",
    "    conn.commit()\n",
    "    conn.close()"
   ]
  },
  {
   "cell_type": "code",
   "execution_count": 380,
   "id": "dfa0caa9-bb58-4673-aa4f-35a0adc1211a",
   "metadata": {},
   "outputs": [
    {
     "data": {
      "text/plain": [
       "[1243, 1243, 1243, 1243, 1243]"
      ]
     },
     "execution_count": 380,
     "metadata": {},
     "output_type": "execute_result"
    }
   ],
   "source": [
    "[len(i) for i in data.values()]"
   ]
  },
  {
   "cell_type": "code",
   "execution_count": 382,
   "id": "2b536492",
   "metadata": {},
   "outputs": [],
   "source": [
    "data = extract()\n",
    "df = transform(data)\n",
    "load(df)"
   ]
  },
  {
   "cell_type": "code",
   "execution_count": null,
   "id": "69e8d45d",
   "metadata": {},
   "outputs": [],
   "source": []
  },
  {
   "cell_type": "code",
   "execution_count": null,
   "id": "a8d3efc8",
   "metadata": {},
   "outputs": [],
   "source": []
  }
 ],
 "metadata": {
  "kernelspec": {
   "display_name": "Python 3 (ipykernel)",
   "language": "python",
   "name": "python3"
  },
  "language_info": {
   "codemirror_mode": {
    "name": "ipython",
    "version": 3
   },
   "file_extension": ".py",
   "mimetype": "text/x-python",
   "name": "python",
   "nbconvert_exporter": "python",
   "pygments_lexer": "ipython3",
   "version": "3.12.4"
  }
 },
 "nbformat": 4,
 "nbformat_minor": 5
}
